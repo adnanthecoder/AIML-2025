{
  "nbformat": 4,
  "nbformat_minor": 0,
  "metadata": {
    "colab": {
      "provenance": [],
      "authorship_tag": "ABX9TyO/SY5VYPpsN6bz9YqZ6RtO",
      "include_colab_link": true
    },
    "kernelspec": {
      "name": "python3",
      "display_name": "Python 3"
    },
    "language_info": {
      "name": "python"
    }
  },
  "cells": [
    {
      "cell_type": "markdown",
      "metadata": {
        "id": "view-in-github",
        "colab_type": "text"
      },
      "source": [
        "<a href=\"https://colab.research.google.com/github/adnanthecoder/AIML-2025/blob/main/2303a52244_bt36.ipynb\" target=\"_parent\"><img src=\"https://colab.research.google.com/assets/colab-badge.svg\" alt=\"Open In Colab\"/></a>"
      ]
    },
    {
      "cell_type": "markdown",
      "source": [
        "prediction of national poll on health aging\n",
        "1.identify top 5 reasons for health aging?\n",
        "2.name the community which has highest aging issues?\n",
        "3.identify the gender which has most aging and least aging issues?\n",
        "4.doeas age,employement and mental stress contribute in health aging?\n",
        "5.name the category which visited most number of doctors?\n",
        "\n"
      ],
      "metadata": {
        "id": "cdtsbmPDAyIn"
      }
    },
    {
      "cell_type": "code",
      "execution_count": 22,
      "metadata": {
        "colab": {
          "base_uri": "https://localhost:8080/"
        },
        "id": "t6uo-EMD_glP",
        "outputId": "a6b88b5f-c3a1-48e5-9717-859c9b068318"
      },
      "outputs": [
        {
          "output_type": "stream",
          "name": "stdout",
          "text": [
            "Drive already mounted at /content/drive; to attempt to forcibly remount, call drive.mount(\"/content/drive\", force_remount=True).\n"
          ]
        }
      ],
      "source": [
        "from google.colab import drive\n",
        "drive.mount('/content/drive')"
      ]
    },
    {
      "cell_type": "code",
      "source": [
        "import pandas as pd"
      ],
      "metadata": {
        "id": "v7zeh1xLCGT4"
      },
      "execution_count": 23,
      "outputs": []
    },
    {
      "cell_type": "code",
      "source": [
        "from google.colab import files\n",
        "uploaded = files.upload()"
      ],
      "metadata": {
        "colab": {
          "base_uri": "https://localhost:8080/",
          "height": 72
        },
        "id": "aCdKYiLiDSWZ",
        "outputId": "504e9e35-557a-4e9c-dca9-b77e56d2fe3a"
      },
      "execution_count": 24,
      "outputs": [
        {
          "output_type": "display_data",
          "data": {
            "text/plain": [
              "<IPython.core.display.HTML object>"
            ],
            "text/html": [
              "\n",
              "     <input type=\"file\" id=\"files-bb992d69-2e7a-40be-8ebb-1088b8ac4828\" name=\"files[]\" multiple disabled\n",
              "        style=\"border:none\" />\n",
              "     <output id=\"result-bb992d69-2e7a-40be-8ebb-1088b8ac4828\">\n",
              "      Upload widget is only available when the cell has been executed in the\n",
              "      current browser session. Please rerun this cell to enable.\n",
              "      </output>\n",
              "      <script>// Copyright 2017 Google LLC\n",
              "//\n",
              "// Licensed under the Apache License, Version 2.0 (the \"License\");\n",
              "// you may not use this file except in compliance with the License.\n",
              "// You may obtain a copy of the License at\n",
              "//\n",
              "//      http://www.apache.org/licenses/LICENSE-2.0\n",
              "//\n",
              "// Unless required by applicable law or agreed to in writing, software\n",
              "// distributed under the License is distributed on an \"AS IS\" BASIS,\n",
              "// WITHOUT WARRANTIES OR CONDITIONS OF ANY KIND, either express or implied.\n",
              "// See the License for the specific language governing permissions and\n",
              "// limitations under the License.\n",
              "\n",
              "/**\n",
              " * @fileoverview Helpers for google.colab Python module.\n",
              " */\n",
              "(function(scope) {\n",
              "function span(text, styleAttributes = {}) {\n",
              "  const element = document.createElement('span');\n",
              "  element.textContent = text;\n",
              "  for (const key of Object.keys(styleAttributes)) {\n",
              "    element.style[key] = styleAttributes[key];\n",
              "  }\n",
              "  return element;\n",
              "}\n",
              "\n",
              "// Max number of bytes which will be uploaded at a time.\n",
              "const MAX_PAYLOAD_SIZE = 100 * 1024;\n",
              "\n",
              "function _uploadFiles(inputId, outputId) {\n",
              "  const steps = uploadFilesStep(inputId, outputId);\n",
              "  const outputElement = document.getElementById(outputId);\n",
              "  // Cache steps on the outputElement to make it available for the next call\n",
              "  // to uploadFilesContinue from Python.\n",
              "  outputElement.steps = steps;\n",
              "\n",
              "  return _uploadFilesContinue(outputId);\n",
              "}\n",
              "\n",
              "// This is roughly an async generator (not supported in the browser yet),\n",
              "// where there are multiple asynchronous steps and the Python side is going\n",
              "// to poll for completion of each step.\n",
              "// This uses a Promise to block the python side on completion of each step,\n",
              "// then passes the result of the previous step as the input to the next step.\n",
              "function _uploadFilesContinue(outputId) {\n",
              "  const outputElement = document.getElementById(outputId);\n",
              "  const steps = outputElement.steps;\n",
              "\n",
              "  const next = steps.next(outputElement.lastPromiseValue);\n",
              "  return Promise.resolve(next.value.promise).then((value) => {\n",
              "    // Cache the last promise value to make it available to the next\n",
              "    // step of the generator.\n",
              "    outputElement.lastPromiseValue = value;\n",
              "    return next.value.response;\n",
              "  });\n",
              "}\n",
              "\n",
              "/**\n",
              " * Generator function which is called between each async step of the upload\n",
              " * process.\n",
              " * @param {string} inputId Element ID of the input file picker element.\n",
              " * @param {string} outputId Element ID of the output display.\n",
              " * @return {!Iterable<!Object>} Iterable of next steps.\n",
              " */\n",
              "function* uploadFilesStep(inputId, outputId) {\n",
              "  const inputElement = document.getElementById(inputId);\n",
              "  inputElement.disabled = false;\n",
              "\n",
              "  const outputElement = document.getElementById(outputId);\n",
              "  outputElement.innerHTML = '';\n",
              "\n",
              "  const pickedPromise = new Promise((resolve) => {\n",
              "    inputElement.addEventListener('change', (e) => {\n",
              "      resolve(e.target.files);\n",
              "    });\n",
              "  });\n",
              "\n",
              "  const cancel = document.createElement('button');\n",
              "  inputElement.parentElement.appendChild(cancel);\n",
              "  cancel.textContent = 'Cancel upload';\n",
              "  const cancelPromise = new Promise((resolve) => {\n",
              "    cancel.onclick = () => {\n",
              "      resolve(null);\n",
              "    };\n",
              "  });\n",
              "\n",
              "  // Wait for the user to pick the files.\n",
              "  const files = yield {\n",
              "    promise: Promise.race([pickedPromise, cancelPromise]),\n",
              "    response: {\n",
              "      action: 'starting',\n",
              "    }\n",
              "  };\n",
              "\n",
              "  cancel.remove();\n",
              "\n",
              "  // Disable the input element since further picks are not allowed.\n",
              "  inputElement.disabled = true;\n",
              "\n",
              "  if (!files) {\n",
              "    return {\n",
              "      response: {\n",
              "        action: 'complete',\n",
              "      }\n",
              "    };\n",
              "  }\n",
              "\n",
              "  for (const file of files) {\n",
              "    const li = document.createElement('li');\n",
              "    li.append(span(file.name, {fontWeight: 'bold'}));\n",
              "    li.append(span(\n",
              "        `(${file.type || 'n/a'}) - ${file.size} bytes, ` +\n",
              "        `last modified: ${\n",
              "            file.lastModifiedDate ? file.lastModifiedDate.toLocaleDateString() :\n",
              "                                    'n/a'} - `));\n",
              "    const percent = span('0% done');\n",
              "    li.appendChild(percent);\n",
              "\n",
              "    outputElement.appendChild(li);\n",
              "\n",
              "    const fileDataPromise = new Promise((resolve) => {\n",
              "      const reader = new FileReader();\n",
              "      reader.onload = (e) => {\n",
              "        resolve(e.target.result);\n",
              "      };\n",
              "      reader.readAsArrayBuffer(file);\n",
              "    });\n",
              "    // Wait for the data to be ready.\n",
              "    let fileData = yield {\n",
              "      promise: fileDataPromise,\n",
              "      response: {\n",
              "        action: 'continue',\n",
              "      }\n",
              "    };\n",
              "\n",
              "    // Use a chunked sending to avoid message size limits. See b/62115660.\n",
              "    let position = 0;\n",
              "    do {\n",
              "      const length = Math.min(fileData.byteLength - position, MAX_PAYLOAD_SIZE);\n",
              "      const chunk = new Uint8Array(fileData, position, length);\n",
              "      position += length;\n",
              "\n",
              "      const base64 = btoa(String.fromCharCode.apply(null, chunk));\n",
              "      yield {\n",
              "        response: {\n",
              "          action: 'append',\n",
              "          file: file.name,\n",
              "          data: base64,\n",
              "        },\n",
              "      };\n",
              "\n",
              "      let percentDone = fileData.byteLength === 0 ?\n",
              "          100 :\n",
              "          Math.round((position / fileData.byteLength) * 100);\n",
              "      percent.textContent = `${percentDone}% done`;\n",
              "\n",
              "    } while (position < fileData.byteLength);\n",
              "  }\n",
              "\n",
              "  // All done.\n",
              "  yield {\n",
              "    response: {\n",
              "      action: 'complete',\n",
              "    }\n",
              "  };\n",
              "}\n",
              "\n",
              "scope.google = scope.google || {};\n",
              "scope.google.colab = scope.google.colab || {};\n",
              "scope.google.colab._files = {\n",
              "  _uploadFiles,\n",
              "  _uploadFilesContinue,\n",
              "};\n",
              "})(self);\n",
              "</script> "
            ]
          },
          "metadata": {}
        },
        {
          "output_type": "stream",
          "name": "stdout",
          "text": [
            "Saving NPHA-doctor-visits.csv to NPHA-doctor-visits (2).csv\n"
          ]
        }
      ]
    },
    {
      "cell_type": "code",
      "source": [
        "file_path = list(uploaded.keys())[0]\n",
        "data = pd.read_csv(file_path)\n"
      ],
      "metadata": {
        "id": "p-03N4NmDy6x"
      },
      "execution_count": 25,
      "outputs": []
    },
    {
      "cell_type": "markdown",
      "source": [
        "question 1\n",
        "identify top 5 reasons for health aging?"
      ],
      "metadata": {
        "id": "2AcpFgw8EKP8"
      }
    },
    {
      "cell_type": "code",
      "source": [
        "health_related_columns = ['Phyiscal Health', 'Mental Health', 'Dental Health',\n",
        "                          'Stress Keeps Patient from Sleeping', 'Trouble Sleeping']\n",
        "health_averages = data[health_related_columns].mean().sort_values(ascending=False)\n",
        "top_5_reasons = health_averages.head(5)\n",
        "print(\"Q1: Top 5 reasons for healthy aging:\")\n",
        "print(top_5_reasons)"
      ],
      "metadata": {
        "colab": {
          "base_uri": "https://localhost:8080/"
        },
        "id": "K1sFqQVTEFvF",
        "outputId": "58b9cb83-5c61-4a33-b292-5c2d734e2d3f"
      },
      "execution_count": 26,
      "outputs": [
        {
          "output_type": "stream",
          "name": "stdout",
          "text": [
            "Q1: Top 5 reasons for healthy aging:\n",
            "Dental Health                         3.009804\n",
            "Phyiscal Health                       2.794118\n",
            "Trouble Sleeping                      2.407563\n",
            "Mental Health                         1.988796\n",
            "Stress Keeps Patient from Sleeping    0.247899\n",
            "dtype: float64\n"
          ]
        }
      ]
    },
    {
      "cell_type": "markdown",
      "source": [
        "question 2\n",
        "name the community which has highest aging issues?\n"
      ],
      "metadata": {
        "id": "dbJ5V-PjEQ6w"
      }
    },
    {
      "cell_type": "code",
      "source": [
        "\n",
        "community_issues = data.groupby('Race')[['Phyiscal Health', 'Mental Health']].mean().mean(axis=1)\n",
        "highest_aging_community = community_issues.idxmin()\n",
        "print(\"\\nQ2: Community with the highest aging issues (based on Race):\")\n",
        "print(f\"Race Code: {highest_aging_community}\")"
      ],
      "metadata": {
        "colab": {
          "base_uri": "https://localhost:8080/"
        },
        "id": "u0VZJ4w2EMS8",
        "outputId": "d924ef47-abac-4752-bdab-4093d642ea68"
      },
      "execution_count": 27,
      "outputs": [
        {
          "output_type": "stream",
          "name": "stdout",
          "text": [
            "\n",
            "Q2: Community with the highest aging issues (based on Race):\n",
            "Race Code: 2\n"
          ]
        }
      ]
    },
    {
      "cell_type": "markdown",
      "source": [
        "question 3\n",
        "identify the gender which has most aging and least aging issues?\n",
        "\n"
      ],
      "metadata": {
        "id": "4IRZRls6EUGr"
      }
    },
    {
      "cell_type": "code",
      "source": [
        "\n",
        "gender_issues = data.groupby('Gender')[['Phyiscal Health', 'Mental Health']].mean().mean(axis=1)\n",
        "most_aging_gender = gender_issues.idxmin()\n",
        "least_aging_gender = gender_issues.idxmax()\n",
        "print(\"\\nQ3: Gender with the most aging issues:\")\n",
        "print(f\"Gender Code: {most_aging_gender}\")\n",
        "print(\"Gender with the least aging issues:\")\n",
        "print(f\"Gender Code: {least_aging_gender}\")"
      ],
      "metadata": {
        "colab": {
          "base_uri": "https://localhost:8080/"
        },
        "id": "dt8Qhpr1ESzw",
        "outputId": "0fb40bb8-aee5-4bbc-bd18-7242f31cb75f"
      },
      "execution_count": 28,
      "outputs": [
        {
          "output_type": "stream",
          "name": "stdout",
          "text": [
            "\n",
            "Q3: Gender with the most aging issues:\n",
            "Gender Code: 2\n",
            "Gender with the least aging issues:\n",
            "Gender Code: 1\n"
          ]
        }
      ]
    },
    {
      "cell_type": "markdown",
      "source": [
        "question 4\n",
        "doeas age,employement and mental stress contribute in health aging?\n"
      ],
      "metadata": {
        "id": "H7K0HFCcEbNW"
      }
    },
    {
      "cell_type": "code",
      "source": [
        "\n",
        "contributing_factors = ['Age', 'Employment', 'Stress Keeps Patient from Sleeping']\n",
        "correlations = data[contributing_factors + ['Phyiscal Health', 'Mental Health']].corr()\n",
        "print(\"\\nQ4: Correlation of Age, Employment, and Stress with Physical and Mental Health:\")\n",
        "print(correlations[['Phyiscal Health', 'Mental Health']].loc[contributing_factors])"
      ],
      "metadata": {
        "colab": {
          "base_uri": "https://localhost:8080/"
        },
        "id": "EH2hbu7vEYI2",
        "outputId": "f918fd13-ed66-4305-8308-4fff6bb12f98"
      },
      "execution_count": 29,
      "outputs": [
        {
          "output_type": "stream",
          "name": "stdout",
          "text": [
            "\n",
            "Q4: Correlation of Age, Employment, and Stress with Physical and Mental Health:\n",
            "                                    Phyiscal Health  Mental Health\n",
            "Age                                             NaN            NaN\n",
            "Employment                                 0.147526       0.077469\n",
            "Stress Keeps Patient from Sleeping         0.034014       0.138074\n"
          ]
        }
      ]
    },
    {
      "cell_type": "markdown",
      "source": [
        "question 5\n",
        "name the category which visited most number of doctors?"
      ],
      "metadata": {
        "id": "01iFns-REeQG"
      }
    },
    {
      "cell_type": "code",
      "source": [
        "\n",
        "doctor_visits_by_category = data.groupby(['Race', 'Gender'])['Number of Doctors Visited'].mean().idxmax()\n",
        "print(\"\\nQ5: Category (Race, Gender) which visited the most number of doctors:\")\n",
        "print(f\"Race Code: {doctor_visits_by_category[0]}, Gender Code: {doctor_visits_by_category[1]}\")"
      ],
      "metadata": {
        "colab": {
          "base_uri": "https://localhost:8080/"
        },
        "id": "sidvNshCEc9R",
        "outputId": "f894add3-5601-44bb-8d69-20b001328ab7"
      },
      "execution_count": null,
      "outputs": [
        {
          "output_type": "stream",
          "name": "stdout",
          "text": [
            "\n",
            "Q5: Category (Race, Gender) which visited the most number of doctors:\n",
            "Race Code: 5, Gender Code: 1\n"
          ]
        }
      ]
    },
    {
      "cell_type": "code",
      "source": [],
      "metadata": {
        "id": "8N2mAEmQEkHM"
      },
      "execution_count": null,
      "outputs": []
    }
  ]
}